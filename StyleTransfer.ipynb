{
  "nbformat": 4,
  "nbformat_minor": 0,
  "metadata": {
    "colab": {
      "name": "StyleTransfer.ipynb",
      "version": "0.3.2",
      "provenance": [],
      "include_colab_link": true
    },
    "kernelspec": {
      "name": "python2",
      "display_name": "Python 2"
    }
  },
  "cells": [
    {
      "cell_type": "markdown",
      "metadata": {
        "id": "view-in-github",
        "colab_type": "text"
      },
      "source": [
        "<a href=\"https://colab.research.google.com/github/annabond1001/style-transfer/blob/master/StyleTransfer.ipynb\" target=\"_parent\"><img src=\"https://colab.research.google.com/assets/colab-badge.svg\" alt=\"Open In Colab\"/></a>"
      ]
    },
    {
      "cell_type": "code",
      "metadata": {
        "id": "6ThyMpq651nB",
        "colab_type": "code",
        "colab": {
          "base_uri": "https://localhost:8080/",
          "height": 437
        },
        "outputId": "f88e64e6-c373-4945-b378-f5eb7718f8ba"
      },
      "source": [
        "!find ."
      ],
      "execution_count": 4,
      "outputs": [
        {
          "output_type": "stream",
          "text": [
            ".\n",
            "./.config\n",
            "./.config/.last_update_check.json\n",
            "./.config/logs\n",
            "./.config/logs/2019.05.15\n",
            "./.config/logs/2019.05.15/16.22.56.671019.log\n",
            "./.config/logs/2019.05.15/16.23.09.149873.log\n",
            "./.config/logs/2019.05.15/16.23.10.177888.log\n",
            "./.config/logs/2019.05.15/16.23.05.972769.log\n",
            "./.config/logs/2019.05.15/16.22.50.435979.log\n",
            "./.config/active_config\n",
            "./.config/config_sentinel\n",
            "./.config/configurations\n",
            "./.config/configurations/config_default\n",
            "./.config/gce\n",
            "./.config/.metricsUUID\n",
            "./sample_data\n",
            "./sample_data/anscombe.json\n",
            "./sample_data/README.md\n",
            "./sample_data/california_housing_test.csv\n",
            "./sample_data/california_housing_train.csv\n",
            "./sample_data/mnist_test.csv\n",
            "./sample_data/mnist_train_small.csv\n"
          ],
          "name": "stdout"
        }
      ]
    }
  ]
}